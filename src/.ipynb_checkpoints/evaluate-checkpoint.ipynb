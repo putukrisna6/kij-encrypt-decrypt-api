{
 "cells": [
  {
   "cell_type": "code",
   "execution_count": 1,
   "id": "ac223735",
   "metadata": {},
   "outputs": [
    {
     "name": "stdout",
     "output_type": "stream",
     "text": [
      "Hello\n"
     ]
    }
   ],
   "source": [
    "TEXT_FILE_PATH = \"./dumps/Sat Oct 01 14 16 06 2022_evaluation_result.txt\""
   ]
  },
  {
   "cell_type": "code",
   "execution_count": null,
   "id": "b17e45dc",
   "metadata": {},
   "outputs": [],
   "source": []
  }
 ],
 "metadata": {
  "kernelspec": {
   "display_name": "Python 3 (ipykernel)",
   "language": "python",
   "name": "python3"
  },
  "language_info": {
   "codemirror_mode": {
    "name": "ipython",
    "version": 3
   },
   "file_extension": ".py",
   "mimetype": "text/x-python",
   "name": "python",
   "nbconvert_exporter": "python",
   "pygments_lexer": "ipython3",
   "version": "3.9.12"
  }
 },
 "nbformat": 4,
 "nbformat_minor": 5
}
